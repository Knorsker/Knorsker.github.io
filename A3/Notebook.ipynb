{
 "cells": [
  {
   "cell_type": "markdown",
   "metadata": {},
   "source": [
    "# Project Assignment B: \"The Viz and the Notebook\""
   ]
  },
  {
   "cell_type": "markdown",
   "metadata": {},
   "source": [
    "The notebook should contain your analysis and code. Please structure it into the following sections"
   ]
  },
  {
   "cell_type": "markdown",
   "metadata": {},
   "source": [
    "1. __Motivation.__\n",
    "* What is your dataset?\n",
    "\n",
    "One of datasets is called 'Cykelstativer' and is from the website Opendata.dk. It contains various information about the number and placement of bike stands in Copenhagen. We have utilized both the CSV file and GeoJSON file to enable various plot options. In addition to these two files, we have also utilized the dataset called 'Bydele,' which includes a GeoJSON file. This file is used to plot the placement and number of bike stands in different parts of the city on a map. Since the dataset only contains approximately 6000 data points, we were recommended to support the dataset with more data. \n",
    "\n",
    "To support the dataset 'Cykelstativer', we found a dataset  called 'Befolkning', which consist data of the population in the different districts in Copenhagen, corresponding to the same districts as in the dataset 'Bydele'. This dataset contains the population measured from 2000 to 2024 almost every quater. \n",
    "\n",
    "Furthermore, we added a dataset called 'Cykeltællinger', which contains information about the amount for bikes in a given spot in the main roads in Copenhagen. Moreover, the data are divided into date and time, location and streetname. The data are measured from 2005 to 2014, divided into one Excel file for each year.\n",
    "\n",
    "* Why did you choose this/these particular dataset(s)?\n",
    "\n",
    "We chose these datasets as we thought it would be interesting to get a understanding of the bike usage in Copenhagen and if there is enough bikestands for the daily coumuters of Copenhagen. Moreover, we would like to dive into the fact that some bike racks are overcrowded, as well as that there are many bikes randomly placed in the general image of Copenhagen. \n",
    "\n",
    "* What was your goal for the end user's experience?\n",
    "\n",
    "Our goal is to be an informative website, showcasing bike usage patterns by plotting weekly and monthly numbers of bikes for each year. After the user has gained some fundamental insights into bike usage, we aim to provide them with a better overview of the evolution of bike racks and population for each district of Copenhagen. This gives the user some insights if these evolutions align with each other, and we will make an analysis of the development over time.\n",
    "\n",
    "Finally to get a more visual context to our analysis, we want to guide the user through different geoplots, showing the placement of the bike racks in Copenhagen. Here it is possible to get an idea if there are any districts, where there will be room for improvement of the placement or number of racks. Here the ownership is an important part, as the has something to say about the availability.\n",
    "\n"
   ]
  },
  {
   "cell_type": "markdown",
   "metadata": {},
   "source": [
    "2. __Basic stats.__ Let's understand the dataset better\n",
    "* Write about your choices in data cleaning and preprocessing\n",
    "\n",
    "Looking into the basics of the dataset 'Cykelstativer', we could see that some bike racks are allocated with 0 bike spots. To clean the dataset, we choose to exclude the data points with 0 bike spots, as these do not make sense to take into account.\n",
    "\n",
    "For the Bike count data, we did no cleaning of it. The data is very different from what we have used before, as each row has multiple data points. Therefore it was nessecary to make preproccesing of it, where for the monthly plot, we added an extra column containing the total number of bikes that day. While for the 168 hours bar plot, we had to reshape the data, so it had a seperate row for each timeslot.\n",
    "\n",
    "Finally we had the population data, which was extracted from the City of Copenhagen Statbank. This data was also a little difficult to process, as we had to import it for each quantile for every year. Extracting this data they had different names, where some quantiles were called *year-k1*, where k1 stands for quantile-1, while other were named a specific date. Therefore we had to convert all the names to be something similar making it simplier to use the data for plotting.\n",
    "\n",
    "\n",
    "* Write a short section that discusses the dataset stats, containing key points/plots from your exploratory data analysis.\n",
    "\n",
    "__Bike count dataset__\n",
    "\n",
    "Calculating the standard statistics of this data, we obtain the mean = 3989.84 and the standard deviation = 4564.70 for the created column 'total_value,' which contained the sum of bikes on that day on one of the streets. These numbers give a strong indication of the data having a wide spread and not being normally distributed. The variability could imply that the data contains outliers or that there are significant differences between individual data points, which we also has seen, since minimum is 0 and maximum is 37316. Plots of the distributions can be seen on our website under the section *Temporal Trends and Seasonal Patterns of Bike Activity in Copenhagen*.\n",
    "\n",
    "__Bike racks dataset__\n",
    "\n",
    "To gain insight into the bike rack dataset, we examined the number of data points that were provided with a date of establishment. This is essential for the analysis we conducted regarding the evolution of bike spots over time, where we require the date information. The total number of spots is 26731, with 4383.0 spots missing dates. Therefore, we can only plot 22348 spots. Below is a tabel showing the ownershp of racks in each city part, which we also will be using for our plots.\n",
    "\n",
    "<div style=\"margin-left: auto;\n",
    "            margin-right: auto;\n",
    "            width: 80%\">\n",
    "\n",
    "| | Amager Vest | Amager Øst | Bispebjerg | Brønshøj-Husum | Indre By | Nørrebro | Valby | Vanløse | Vesterbro - Kongens Enghave | Østerbro | \n",
    "|--------|-----------|------------|-----------|----------|-----------|----------|--------|--------|--------|--------|\n",
    "|  Public  |   221  | 125      | 45    | 53   | 864    | 372   |91   |25   |456   | 506 |\n",
    "|  Private     |   119  | 48     | 150   | 68   | 518    | 418   |111   |75   |438  | 818 |\n",
    "|  Not registred  |  32  | 76  | 0  | 0   | 296    | 4   |1   |0   |23   | 83 |\n",
    "| Proportion of public | ~59,4\\%| ~50,2\\% | ~23,1\\% |~43,8\\%|~51,5\\%|~46,9\\%|~44,8\\%|25\\%|~49,7\\%|~36,0\\%|\n",
    "\n",
    "\n",
    "\n",
    "_Table: Amount of public, private and not registred bike racks._\n",
    "</div>\n",
    "\n",
    "\n",
    "\n",
    "__Population dataset__\n",
    "\n",
    "XXXXXXXXXXXXXXX TILFØJ XXXXXXXXXXXXXXXXX\n",
    "\n",
    " \n"
   ]
  },
  {
   "cell_type": "markdown",
   "metadata": {},
   "source": [
    "3. __Data Analysis__\n",
    "* Describe your data analysis and explain what you've learned about the dataset.\n",
    "\n",
    "XXXXXXXXXXXXXXX TILFØJ XXXXXXXXXXXXXXXXX\n",
    "\n",
    "* Note: \n",
    "    * Clearly patterns in the bike activities, mostly for the 168 hours plot, the monthly plot was more missing.\n",
    "    * In the evalution of the population and number of bike stands. They do not follow each other, but there is many reasons for this, as it is a capital, and therefore many people can come from other cities.\n",
    "    * Learned that bike racks placements has strong correaltion with the public tranportation\n"
   ]
  },
  {
   "cell_type": "markdown",
   "metadata": {},
   "source": [
    "4. __Genre.__ Which genre of data story did you use?\n",
    "* Which tools did you use from each of the 3 categories of Visual Narrative (Figure 7 in Segal and Heer). Why?\n",
    "\n",
    "XXXXXXXXXXXXXXX TILFØJ XXXXXXXXXXXXXXXXX\n",
    "* Which tools did you use from each of the 3 categories of Narrative Structure (Figure 7 in Segal and Heer). Why?\n",
    "\n",
    "XXXXXXXXXXXXXXX TILFØJ XXXXXXXXXXXXXXXXX"
   ]
  },
  {
   "cell_type": "markdown",
   "metadata": {},
   "source": [
    "5. __Visualizations.__\n",
    "* Explain the visualizations you've chosen.\n",
    "\n",
    "On our website, we have chosen to have different kinds of illsutration. All from a simple barplot to a interactive plot. We have tried our best to use the most suitable plots for each story, that we want to tell. For our fundamental distributions for bike usages in Copenhagen, we used first a simple bar plot, showing a 168 hours plot. There next we made a interactive bar plot showing the distribution over the months, where it is possible to choose a year, making it easier to compare the different years.\n",
    "\n",
    "Next looking at the evalution of population and bike spots, we employed an interactive line plot to provide the best overview. In this plot, users have the option to select the population and bike spots in each city district.\n",
    "\n",
    "Finally to add a more visual perspective to our analysis, we selected to create various geoplots of the bike racks.\n",
    "\n",
    "* Why are they right for the story you want to tell?\n",
    "\n",
    "We believe it's wise to begin with simple plots, such as our two bar plots. They provide a clear distribution of bike usage, serving as an effective introduction to our story.\n",
    "\n",
    "Following the bar plots, we introduced the interactive line plot. Initially, we experimented with a scatterplot but found it to be confusing and lacking in clarity. Therefore we tried using a line plot, which improved the visual representation and comprehension of the data.\n",
    "\n",
    "The Geoplots are a good choice, since we also get the more visual readers with us. Also it makes it a lot easy to see any patterns of the placement of the bike racks, and it builds a good foundation for an in-depth analysis.\n"
   ]
  },
  {
   "cell_type": "markdown",
   "metadata": {},
   "source": [
    "6. __Discussion.__ Think critically about your creation\n",
    "\n",
    "XXX ÆNDRE dette hvis vi lykkes med at kombinere med geoplot XXX\n",
    "\n",
    "* What went well?\n",
    "\n",
    "    First in our process of making our website, we quickly divided the different tasks and plots among group members. This approach worked well as we sat together beforehand and outlined the website and the story we wanted to tell. We are also very proud of the plots that we have made on the website, and think that they illustrate the information, that we want to communicate, very well.\n",
    "\n",
    "\n",
    "* What is still missing? What could be improved?, Why?\n",
    "\n",
    "    It would have been very nice, if all our datasets were from the same years, since our introduction with trends and so on, are missing data from 2014 to now. Also, when analyzing the data through our story, it was clear that some of the sets were inconsistent. Two things with our plots could be improved. In our interactive line plot, we would have liked to group the labels within each district, so when choosing a city district, it would automatically plot the population and number of bike spots for that. Also, it could have been very nice if we could have combined our geoplots, so it would be possible to select the unit plotted in the bar beside it."
   ]
  },
  {
   "cell_type": "markdown",
   "metadata": {},
   "source": [
    "7. __Contributions.__ Who did what?\n",
    "* You should write (just briefly) which group member was the main responsible for which elements of the assignment. (I want you guys to understand every part of the assignment, but usually there is someone who took lead role on certain portions of the work. That's what you should explain).\n",
    "* It is not __OK__ simply to write \"All group members contributed equally\".\n",
    "\n",
    "\n",
    "\n",
    "\n",
    "| Part | s214704 | s214725 | s204112 |\n",
    "|------|---------|---------|---------|\n",
    "| Notebook   |         |         |         |\n",
    "| I    |         |         |         |\n",
    "| II   |         |         |         |\n",
    "| III  |         |         |         |\n",
    "| IV   |         |         |         |\n"
   ]
  },
  {
   "cell_type": "markdown",
   "metadata": {},
   "source": [
    "8. Make sure that you use references when they're needed and follow academic standards."
   ]
  },
  {
   "cell_type": "markdown",
   "metadata": {},
   "source": [
    "# Code:"
   ]
  }
 ],
 "metadata": {
  "language_info": {
   "name": "python"
  }
 },
 "nbformat": 4,
 "nbformat_minor": 2
}
