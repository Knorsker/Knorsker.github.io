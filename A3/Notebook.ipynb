{
 "cells": [
  {
   "cell_type": "markdown",
   "metadata": {},
   "source": [
    "# Project Assignment B: \"The Viz and the Notebook\""
   ]
  },
  {
   "cell_type": "markdown",
   "metadata": {},
   "source": [
    "The notebook should contain your analysis and code. Please structure it into the following sections"
   ]
  },
  {
   "cell_type": "markdown",
   "metadata": {},
   "source": [
    "1. __Motivation.__\n",
    "* What is your dataset?\n",
    "\n",
    "One of datasets is called 'Cykelstativer' and is from the website Opendata.dk. It contains various information about the number and placement of bike stands in Copenhagen. We have utilized both the CSV file and GeoJSON file to enable various plot options. In addition to these two files, we have also utilized the dataset called 'Bydele,' which includes a GeoJSON file. This file is used to plot the placement and number of bike stands in different parts of the city on a map. Since the dataset only contains approximately 6000 data points, we were recommended to support the dataset with more data. \n",
    "\n",
    "To support the dataset 'Cykelstativer', we found a dataset  called 'Befolkning', which consist data of the population in the different districts in Copenhagen, corresponding to the same districts as in the dataset 'Bydele'. This dataset contains the population measured from 2000 to 2024 almost every quater. \n",
    "\n",
    "Furthermore, we added a dataset called 'Cykeltællinger', which contains information about the amount for bikes in a given spot in the main roads in Copenhagen. Moreover, the data are divided into date and time, location and streetname. The data are measured from 2005 to 2014, divided into one Excel file for each year.\n",
    "\n",
    "* Why did you choose this/these particular dataset(s)?\n",
    "\n",
    "We chose these datasets as we thought it would be interesting to get a understanding of the bike usage in Copenhagen and if there is enough bikestands for the daily coumuters of Copenhagen. Moreover, we would like to dive into the fact that some bike racks are overcrowded, as well as that there are many bikes randomly placed in the general image of Copenhagen. \n",
    "\n",
    "* What was your goal for the end user's experience?\n",
    "\n",
    "Our goal is to be an informative website, showcasing bike usage patterns by plotting weekly and monthly numbers of bikes for each year. After the user has gained some fundamental insights into bike usage, we aim to provide them with a better overview of the evolution of bike racks and population for each district of Copenhagen. This gives the user some insights if these evolutions align with each other, and we will make an analysis of the development over time.\n",
    "\n",
    "Finally to get a more visual context to our analysis, we want to guide the user through different geoplots, showing the placement of the bike racks in Copenhagen. Here it is possible to get an idea if there are any districts, where there will be room for improvement of the placement or number of racks. Here the ownership is an important part, as the has something to say about the availability.\n",
    "\n"
   ]
  },
  {
   "cell_type": "markdown",
   "metadata": {},
   "source": [
    "2. __Basic stats.__ Let's understand the dataset better\n",
    "* Write about your choices in data cleaning and preprocessing\n",
    "\n",
    "Looking into the basics of the dataset 'Cykelstativer', we could see that some bike racks are allocated with 0 bike spots. To clean the dataset, we choose to exclude the data points with 0 bike spots, as these do not make sense to take into account.\n",
    "\n",
    "For the Bike count data, we did no cleaning of it. The data is very different from what we have used before, as each row has multiple data points. Therefore it was nessecary to make preproccesing of it, where for the monthly plot, we added an extra column containing the total number of bikes that day. While for the 168 hours bar plot, we had to reshape the data, so it had a seperate row for each timeslot.\n",
    "\n",
    "Finally we had the population data, which was extracted from the City of Copenhagen Statbank. This data was also a little difficult to process, as we had to import it for each quantile for every year. Extracting this data they had different names, where some quantiles were called *year-k1*, where k1 stands for quantile-1, while other were named a specific date. Therefore we had to convert all the names to be something similar making it simplier to use the data for plotting.\n",
    "\n",
    "\n",
    "* Write a short section that discusses the dataset stats, containing key points/plots from your exploratory data analysis.\n",
    "\n",
    "__Bike count dataset__\n",
    "\n",
    "Calculating the standard statistics of this data, we obtain the mean = 3989.84 and the standard deviation = 4564.70 for the created column 'total_value,' which contained the sum of bikes on that day on one of the streets. These numbers give a strong indication of the data having a wide spread and not being normally distributed. The variability could imply that the data contains outliers or that there are significant differences between individual data points, which we also has seen, since minimum is 0 and maximum is 37316. Plots of the distributions can be seen on our website under the section *Temporal Trends and Seasonal Patterns of Bike Activity in Copenhagen*.\n",
    "\n",
    "__Bike racks dataset__\n",
    "\n",
    "To gain insight into the bike rack dataset, we examined the number of data points that were provided with a date of establishment. This is essential for the analysis we conducted regarding the evolution of bike spots over time, where we require the date information. The total number of spots is 26731, with 4383.0 spots missing dates. Therefore, we can only plot 22348 spots. Below is a tabel showing the ownershp of racks in each city part, which we also will be using for our plots.\n",
    "\n",
    "<div style=\"margin-left: auto;\n",
    "            margin-right: auto;\n",
    "            width: 80%\">\n",
    "\n",
    "| | Amager Vest | Amager Øst | Bispebjerg | Brønshøj-Husum | Indre By | Nørrebro | Valby | Vanløse | Vesterbro - Kongens Enghave | Østerbro | \n",
    "|--------|-----------|------------|-----------|----------|-----------|----------|--------|--------|--------|--------|\n",
    "|  Public  |   221  | 125      | 45    | 53   | 864    | 372   |91   |25   |456   | 506 |\n",
    "|  Private     |   119  | 48     | 150   | 68   | 518    | 418   |111   |75   |438  | 818 |\n",
    "|  Not registred  |  32  | 76  | 0  | 0   | 296    | 4   |1   |0   |23   | 83 |\n",
    "| Proportion of public | ~59,4\\%| ~50,2\\% | ~23,1\\% |~43,8\\%|~51,5\\%|~46,9\\%|~44,8\\%|25\\%|~49,7\\%|~36,0\\%|\n",
    "\n",
    "\n",
    "\n",
    "_Table: Amount of public, private and not registred bike racks._\n",
    "</div>\n",
    "\n",
    "\n",
    "\n",
    "__Population dataset__\n",
    "\n",
    "XXXXXXXXXXXXXXX TILFØJ XXXXXXXXXXXXXXXXX\n",
    "\n",
    " \n"
   ]
  },
  {
   "cell_type": "markdown",
   "metadata": {},
   "source": [
    "3. __Data Analysis__\n",
    "* Describe your data analysis and explain what you've learned about the dataset.\n",
    "\n",
    "Our analysis aimed to gain insight into bike usage in Copenhagen, as well as examining the state of bike racks, given issues like overcrowding and the frequency of bikes randomly placed on the streets.\n",
    "\n",
    "Through our data exploration and analysis, we discovered clear patterns in bike activities. This was particularly evident in the 168-hour plot, where rush hours showed distinct spikes. Although the monthly plot had some missing data, we could still observe that bike usage peaked during the summer months.\n",
    "\n",
    "Next, when examining the evolution of population and bike spots, we observed that they do not necessarily correlate, and that there can many reasons for this. In certain areas while the population remains stable, there is an increase in bike spots. This occurrence is often attributed to Copenhagen's status as a capital, attracting commuters from other cities. Also we noticed significant jumps in the evaluation of bike spots for some districts, which could mean that some people did not report the establishment dates correct.\n",
    "\n",
    "Finally when plotting the placement of the bike racks, it also becam clear that this has a strong correlation with the public transportation, as there was a tendency of clusters around different stations.\n"
   ]
  },
  {
   "cell_type": "markdown",
   "metadata": {},
   "source": [
    "4. __Genre.__ Which genre of data story did you use?\n",
    "\n",
    "On our website, we used the magazine style, as we think that provides the best layout for our story.\n",
    "\n",
    "* Which tools did you use from each of the 3 categories of Visual Narrative (Figure 7 in Segal and Heer). Why?\n",
    "\n",
    "From the category 'Visual Structing', we have used Consistent Visual Platform, since we think that it clever to continue using plots and table to help us telling our story and analysis. For 'Highlighting' we have used the tool Zooming in our geoplots, as it is possible for the user, to look closer at the bik racks placement. For 'Transition Guidance,' we utilized the tools of Familiar Objects and Viewing Angle. On our website, we ensure consistency by using familiar terms and perspectives to results found earlier. Additionally, we adjust our viewpoint later in the story when discussing bike racks and population. These tools helps us to maintain coherence throughout our narrative. \n",
    "\n",
    "\n",
    "* Which tools did you use from each of the 3 categories of Narrative Structure (Figure 7 in Segal and Heer). Why?\n",
    "\n",
    "In all our plots, we used the Linear ordering from the category 'Ordering.' This provides the best overview, as we arranged the months and days in the familiar linear format. Later, we continued to use linear ordering, arranging the city districts alphabetically. In the category 'Interactivity,' we employed the Filtering/Selection tool because it enables users to filter and select items in a way that makes sense for them. Additionally we provide guidance within the text to help readers understand our analysis from the interactive plots. For 'Messaging,' we utilized tools such as Captions, Annotations, and Summary text. On our website, every plot and section includes a Caption. Additionally, we provide brief figure texts summarizing the plot and figure annotation, along with more in-depth summaries within the analysis text, where it is possible to refer to the figure using the annotation. These elements helps to assist the reader in understanding the plot and contribute to telling the story effectively.\n"
   ]
  },
  {
   "cell_type": "markdown",
   "metadata": {},
   "source": [
    "5. __Visualizations.__\n",
    "* Explain the visualizations you've chosen.\n",
    "\n",
    "On our website, we have chosen to have different kinds of illsutration. All from a simple barplot to a interactive plot. We have tried our best to use the most suitable plots for each story, that we want to tell. For our fundamental distributions for bike usages in Copenhagen, we used first a simple bar plot, showing a 168 hours plot. There next we made a interactive bar plot showing the distribution over the months, where it is possible to choose a year, making it easier to compare the different years.\n",
    "\n",
    "Next looking at the evalution of population and bike spots, we employed an interactive line plot to provide the best overview. In this plot, users have the option to select the population and bike spots in each city district.\n",
    "\n",
    "Finally to add a more visual perspective to our analysis, we selected to create various geoplots of the bike racks.\n",
    "\n",
    "* Why are they right for the story you want to tell?\n",
    "\n",
    "We believe it's wise to begin with simple plots, such as our two bar plots. They provide a clear distribution of bike usage, serving as an effective introduction to our story.\n",
    "\n",
    "Following the bar plots, we introduced the interactive line plot. Initially, we experimented with a scatterplot but found it to be confusing and lacking in clarity. Therefore we tried using a line plot, which improved the visual representation and comprehension of the data.\n",
    "\n",
    "The Geoplots are a good choice, since we also get the more visual readers with us. Also it makes it a lot easy to see any patterns of the placement of the bike racks, and it builds a good foundation for an in-depth analysis.\n"
   ]
  },
  {
   "cell_type": "markdown",
   "metadata": {},
   "source": [
    "6. __Discussion.__ Think critically about your creation\n",
    "\n",
    "XXX ÆNDRE dette hvis vi lykkes med at kombinere med geoplot XXX\n",
    "\n",
    "* What went well?\n",
    "\n",
    "    First in our process of making our website, we quickly divided the different tasks and plots among group members. This approach worked well as we sat together beforehand and outlined the website and the story we wanted to tell. We are also very proud of the plots that we have made on the website, and think that they illustrate the information, that we want to communicate, very well.\n",
    "\n",
    "\n",
    "* What is still missing? What could be improved?, Why?\n",
    "\n",
    "    It would have been very nice, if all our datasets were from the same years, since our introduction with trends and so on, are missing data from 2014 to now. Also, when analyzing the data through our story, it was clear that some of the sets were inconsistent. Two things with our plots could be improved. In our interactive line plot, we would have liked to group the labels within each district, so when choosing a city district, it would automatically plot the population and number of bike spots for that. Also, it could have been very nice if we could have combined our geoplots, so it would be possible to select the unit plotted in the bar beside it."
   ]
  },
  {
   "cell_type": "markdown",
   "metadata": {},
   "source": [
    "7. __Contributions.__ Who did what?\n",
    "* You should write (just briefly) which group member was the main responsible for which elements of the assignment. (I want you guys to understand every part of the assignment, but usually there is someone who took lead role on certain portions of the work. That's what you should explain).\n",
    "* It is not __OK__ simply to write \"All group members contributed equally\".\n",
    "\n",
    "\n",
    "\n",
    "\n",
    "| Part | s214704 | s214725 | s204112 |\n",
    "|------|---------|---------|---------|\n",
    "| Notebook   |         |         |         |\n",
    "| I    |         |         |         |\n",
    "| II   |         |         |         |\n",
    "| III  |         |         |         |\n",
    "| IV   |         |         |         |\n"
   ]
  },
  {
   "cell_type": "markdown",
   "metadata": {},
   "source": [
    "8. Make sure that you use references when they're needed and follow academic standards."
   ]
  },
  {
   "cell_type": "markdown",
   "metadata": {},
   "source": [
    "# Code:"
   ]
  },
  {
   "cell_type": "code",
   "execution_count": null,
   "metadata": {},
   "outputs": [],
   "source": [
    "import pandas as pd\n",
    "import matplotlib.pyplot as plt\n",
    "import numpy as np\n",
    "import plotly.express as px\n",
    "import seaborn as sns\n",
    "from bokeh.transform import jitter\n",
    "from bokeh.palettes import Category20\n",
    "from bokeh.plotting import figure, show, output_file, save\n",
    "from bokeh.models import ColumnDataSource, HoverTool, DatetimeTicker, Range1d, LinearAxis, Legend\n",
    "\n",
    "\n",
    "#ignore warnings\n",
    "import warnings\n",
    "warnings.filterwarnings('ignore')\n",
    "\n",
    "pd.options.plotting.backend = \"plotly\""
   ]
  },
  {
   "cell_type": "code",
   "execution_count": null,
   "metadata": {},
   "outputs": [],
   "source": [
    "## Load dataset: Cykelstativer\n",
    "file = \"..\\..\\Data\\cykelstativ.csv\"\n",
    "df = pd.read_csv(file)\n",
    "\n",
    "# Cleaning\n",
    "df = df[df[\"antal_pladser\"] != 0]"
   ]
  },
  {
   "cell_type": "code",
   "execution_count": null,
   "metadata": {},
   "outputs": [],
   "source": [
    "## Load dataset: Befolkning\n",
    "file = \"..\\..\\Data\\Befolkning.csv\"\n",
    "df_befolkning = pd.read_csv(file,sep=',',encoding='latin-1', header=1)\n",
    "\n",
    "# Cleaning\n",
    "df_befolkning = df_befolkning[:-1]\n",
    "df_befolkning = df_befolkning.sort_values(by=' ')"
   ]
  },
  {
   "cell_type": "code",
   "execution_count": null,
   "metadata": {},
   "outputs": [],
   "source": [
    "## Load dataset: Cykeltællinger\n",
    "\n",
    "file_paths = [\n",
    "    \"..\\..\\Data\\cykeltaellinger-2005.xlsx\",\n",
    "    \"..\\..\\Data\\cykeltaellinger-2006.xlsx\",\n",
    "    \"..\\..\\Data\\cykeltaellinger-2007.xlsx\",\n",
    "    \"..\\..\\Data\\cykeltaellinger-2008.xlsx\",\n",
    "    \"..\\..\\Data\\cykeltaellinger-2009.xlsx\",\n",
    "    \"..\\..\\Data\\cykeltaellinger-2010.xlsx\",\n",
    "    \"..\\..\\Data\\cykeltaellinger-2011.xlsx\",\n",
    "    \"..\\..\\Data\\cykeltaellinger-2012.xlsx\",\n",
    "    \"..\\..\\Data\\cykeltaellinger-2013.xlsx\",\n",
    "    \"..\\..\\Data\\cykeltaellinger-2014.xlsx\"\n",
    "]\n",
    "\n",
    "# Cleaning and preprocessing\n",
    "# List to store DataFrames\n",
    "dfs = []\n",
    "\n",
    "# Iterate over file paths, read Excel files, and append to dfs list\n",
    "for file_path in file_paths:\n",
    "    data = pd.read_excel(file_path, usecols='A:AD', skiprows=10)\n",
    "    dfs.append(data)\n",
    "\n",
    "# Concatenate DataFrames\n",
    "data_com = pd.concat(dfs, ignore_index=True)\n",
    "data_com['Total_Value'] = data_com.iloc[:, 6:].sum(axis=1)\n",
    "data_com['Month'] = pd.to_datetime(data_com['Dato'], format='%d.%m.%Y').dt.month\n",
    "data_com['year'] =pd.to_datetime(data_com['Dato'], format='%d.%m.%Y').dt.year\n",
    "\n",
    "data = data_com\n",
    "\n",
    "month_order = [\"Jan\", \"Feb\", \"Mar\", \"Apr\", \"May\", \"Jun\",\"Jul\", \"Aug\", \"Sep\", \"Oct\", \"Nov\", \"Dec\"]\n",
    "\n",
    "# # Map month numbers to month names\n",
    "data['Month_Name'] = data['Month'].map({i + 1: month_order[i] for i in range(12)})\n",
    "\n",
    "data['Month_Name'] = pd.Categorical(data['Month_Name'], categories=month_order, ordered=True)\n",
    "data = data.sort_values(by='Month_Name')\n",
    "data['year'] =data['year'].astype(str)\n",
    "data = data.groupby(['Month_Name', 'year']).agg({'Total_Value': 'sum'}).unstack()\n",
    "data.columns = data.columns.droplevel()\n",
    "data.reset_index(inplace=True)  # Resetting the index to flatten the MultiIndex"
   ]
  },
  {
   "cell_type": "code",
   "execution_count": null,
   "metadata": {},
   "outputs": [],
   "source": [
    "## Load data: Geojson"
   ]
  },
  {
   "cell_type": "markdown",
   "metadata": {},
   "source": [
    "### Basic plots - The fundamental distributions of the data"
   ]
  },
  {
   "cell_type": "code",
   "execution_count": null,
   "metadata": {},
   "outputs": [],
   "source": [
    "## Amount of spots in bike stands\n",
    "\n",
    "print(\"Mean: \", np.mean(df[\"antal_pladser\"]))\n",
    "print(\"Minimum: \", np.min(df[\"antal_pladser\"]))\n",
    "print(\"Maximum: \", np.max(df[\"antal_pladser\"]))\n",
    "\n",
    "col = px.colors.qualitative.Dark2\n",
    "\n",
    "fig = px.histogram(df, x=\"antal_pladser\", title=\"Amount of spots in bike stands\", color_discrete_sequence=[col[2]])\n",
    "fig.update_layout(xaxis_title=\"Amount of spots\", yaxis_title=\"Occurences\")  \n",
    "fig.show()"
   ]
  },
  {
   "cell_type": "code",
   "execution_count": null,
   "metadata": {},
   "outputs": [],
   "source": [
    "## Owner of the different bike stands\n",
    "\n",
    "stand_owner = df.groupby(\"stativ_ejer\", observed=False).size()\n",
    "\n",
    "fig = stand_owner.plot.bar(color_discrete_sequence=[col[2]], width=700, height=400)\n",
    "fig.update_layout(title=\"Owner of the different bike stands\", yaxis_title=\"Amount of bike stands\", xaxis_title=\"Bike stand owner\", showlegend=False)\n",
    "fig.show()"
   ]
  },
  {
   "cell_type": "code",
   "execution_count": null,
   "metadata": {},
   "outputs": [],
   "source": [
    "## Bike stands divided into districts\n",
    "\n",
    "stand_amount = df.groupby(['bydel', 'stativ_ejer']).size()\n",
    "\n",
    "fig = px.bar(stand_amount.reset_index(), x='bydel', y=0, color='stativ_ejer', \n",
    "             title='Bike Stands Divided into Districts', \n",
    "             width=900, height=500, text_auto='.2s',\n",
    "             color_discrete_sequence=[col[0], col[1], col[2]])\n",
    "fig.update_layout(xaxis_title='District', yaxis_title='Amount of Bike Stands', legend_title='Owner', showlegend=True)\n",
    "fig.show()"
   ]
  },
  {
   "cell_type": "markdown",
   "metadata": {},
   "source": [
    "The plot (Bike Stands Divided into Districts) shows the distribution of bike stands in the different districts of Copenhagen. It can be seen, that there are four big categories; Indre By, Nørrebro, Vesterbro-Kongens Enghave and Østerbro, and six smaller categories with a total amount of bike stands below 500. The district with the most bike stands is Indre By with and the district with 1678 stands the less bike stands is Vanløse with 100 stands. \n",
    "\n",
    "Futhermore, we can see that the part of private stands vs. public stands are almost equal, but with some bike stands that are not registered. "
   ]
  },
  {
   "cell_type": "code",
   "execution_count": null,
   "metadata": {},
   "outputs": [],
   "source": [
    "## Bike stands divided into location \n",
    "\n",
    "place_amount_owner = df.groupby(['stativ_placering', 'stativ_ejer']).size()\n",
    "\n",
    "fig = px.bar(place_amount_owner.reset_index(), x='stativ_placering', y=0, color='stativ_ejer', text_auto='.2s',\n",
    "              title='Location of bike stands', width=900, height=500, color_discrete_sequence=[col[0], col[1], col[2]])\n",
    "fig.update_layout(xaxis_title='Bike stand location', yaxis_title='Amount of Bike Stands', legend_title='Owner', showlegend=True)\n",
    "fig.show()"
   ]
  },
  {
   "cell_type": "markdown",
   "metadata": {},
   "source": [
    "Looking at the location of the bike stands, it can be seen that the most common place to locate a bike stand i copenhagen is at a facade, which is approximately 24% of the total amount of bike stands. Furthermore, it can be seen that 90.8% of the bike stands located at a facade are privately owned, which is not a surprise, since most buildings are privately owned and therefore the councils need permission to build place a bike stand at a facade. This is the same argue for the location 'tæt på facade', since it might be private lot close to the private buildings. \n",
    "\n",
    "On the other hand, we can see that the publicly owned bike stands are dominating for the rest of the categories. Specially the categories 'på fortov', 'på fortovsudvidelse' and 'på plads', where there is a high amount of public bike stands. In general pavements and squares are publicly owned in Copenhagen, so when a council wants to place a new bike stand, an easy place to locate the bike stand will be a pavement or a square."
   ]
  },
  {
   "cell_type": "code",
   "execution_count": null,
   "metadata": {},
   "outputs": [],
   "source": [
    "## Bike stands divided into design \n",
    "\n",
    "stand_design_owner = df.groupby(['stativ_udformning', 'stativ_ejer']).size()\n",
    "\n",
    "fig = px.bar(stand_design_owner.reset_index(), x='stativ_udformning', y=0, color='stativ_ejer', \n",
    "             title='Bike stands per different stand design', width=900, height=500, text_auto='.2s',\n",
    "             color_discrete_sequence=[col[0], col[1], col[2]])\n",
    "fig.update_layout(xaxis_title='Bike stand design', yaxis_title='Amount of bike stands', legend_title='Owner', showlegend=True)\n",
    "fig.show()"
   ]
  },
  {
   "cell_type": "markdown",
   "metadata": {},
   "source": [
    "From the plot above we can see that the most common design of the bike stands are the single-sided stands. With a total amount of the single-sided stands at 4830 the category can be divided into publicly owned, privately owend and not registred. Here we can see that the most frequent category is the privately owned with approximately 500 bike stands more than publicly owned."
   ]
  },
  {
   "cell_type": "code",
   "execution_count": null,
   "metadata": {},
   "outputs": [],
   "source": [
    "## Bike stands divided into stand type \n",
    "\n",
    "stand_design_owner = df.groupby(['stativ_type', 'stativ_ejer']).size()\n",
    "\n",
    "fig = px.bar(stand_design_owner.reset_index(), x='stativ_type', y=0, color='stativ_ejer', title='Bike stands per different stand type', width=900, height=500)\n",
    "fig.update_layout(xaxis_title='Bike stand type', yaxis_title='Amount of bike stands', legend_title='Owner', showlegend=True)\n",
    "fig.show()"
   ]
  },
  {
   "cell_type": "markdown",
   "metadata": {},
   "source": [
    "### Temporal Trends and Seasonal Patterns of bike Activity in Copenhagen (III)"
   ]
  },
  {
   "cell_type": "markdown",
   "metadata": {},
   "source": [
    "### Trends in population and bike spots (IV)"
   ]
  },
  {
   "cell_type": "code",
   "execution_count": null,
   "metadata": {},
   "outputs": [],
   "source": [
    "## Select district\n",
    "bydele = ['Amager Vest', 'Amager Øst', 'Bispebjerg', 'Brønshøj-Husum', 'Indre By',\n",
    "       'Nørrebro', 'Valby', 'Vanløse', 'Vesterbro-Kongens Enghave',\n",
    "       'Østerbro']\n",
    "\n",
    "bydel = \"Indre By\"\n",
    "pop_bydel = f\"Bydel - {bydel}\""
   ]
  },
  {
   "cell_type": "code",
   "execution_count": null,
   "metadata": {},
   "outputs": [],
   "source": [
    "## Bike racks / spots in the given district\n",
    "df_3 = df[df['bydel'] == bydel]\n",
    "print(f\"Total amount of spots: {df_3['antal_pladser'].sum()}\")\n",
    "\n",
    "## Der er en del steder hvor datoen er NaN, men der er angivet et antal pladser (2066 rækker)\n",
    "\n",
    "nan_count = df_3['reg_dato'].isna().sum()\n",
    "extra_spots = df_3[df_3['reg_dato'].isna()]['antal_pladser'].sum()\n",
    "print(f\"Total amount of spots without date: {extra_spots}\")\n",
    "\n",
    "## Frasorterer NaN værdier\n",
    "dato_3 = df_3.groupby('reg_dato')['antal_pladser'].sum()\n",
    "dato_3.index = dato_3.index.str[:10]\n",
    "print(f\"Total amount of spots with date: {dato_3.sum()}\")\n",
    "\n",
    "\n",
    "## Make the accumulated sum\n",
    "dato_3.values[0] += extra_spots\n",
    "accum_sum = dato_3.cumsum()"
   ]
  },
  {
   "cell_type": "code",
   "execution_count": null,
   "metadata": {},
   "outputs": [],
   "source": [
    "## Population in the given district\n",
    "df_befolkning_3 = df_befolkning\n",
    "\n",
    "\n",
    "## Changing quntiles to months\n",
    "mapping = {'K1': '-01', 'K2': '-04', 'K3': '-07', 'K4': '-10'}\n",
    "\n",
    "# Rename columns\n",
    "df_befolkning_3 = df_befolkning_3.rename(columns=lambda x: x[:4] + mapping.get(x[4:], ''))\n",
    "df_befolkning_3.iloc[8, 0] = 'Bydel - Vesterbro-Kongens Enghave'\n",
    "df_befolkning_3"
   ]
  },
  {
   "cell_type": "code",
   "execution_count": null,
   "metadata": {},
   "outputs": [],
   "source": [
    "## Plotting the data as a Bokeh plot\n",
    "\n",
    "# Create a Bokeh plot\n",
    "p = figure(title='Bike Spots vs. Population ', x_axis_label='Year', y_axis_label='Population',\n",
    "           width=1200, height=600, #width=900, height=450,\n",
    "           x_axis_type=\"datetime\")\n",
    "p.extra_y_ranges = {\"y2\": Range1d(start = 0, end = 27000)}\n",
    "p.add_layout(LinearAxis(y_range_name = \"y2\", axis_label = 'Bike Spots'), 'right')\n",
    "\n",
    "\n",
    "\n",
    "items = []\n",
    "items2 = []\n",
    "b = {}\n",
    "b2 = {}\n",
    "\n",
    "## Loop through the districts\n",
    "for d in range(len(bydele)):\n",
    "\n",
    "    ##----\n",
    "    df_3 = df[df['bydel'] == bydele[d]]    \n",
    "\n",
    "    extra_spots = df_3[df_3['reg_dato'].isna()]['antal_pladser'].sum()\n",
    "\n",
    "    dato_3 = df_3.groupby('reg_dato')['antal_pladser'].sum()\n",
    "    dato_3.index = dato_3.index.str[:10]\n",
    "\n",
    "    ## Make the accumulated sum\n",
    "    dato_3.values[0] += extra_spots\n",
    "    accum_sum = dato_3.cumsum()\n",
    "\n",
    "    df_temp = pd.DataFrame({'Date': pd.to_datetime(accum_sum.index), 'Spots': accum_sum.values})\n",
    "    df_temp['FormattedDate'] = df_temp['Date'].dt.strftime('%Y-%m-%d')  # Format to readable date\n",
    "    df_temp['district'] = bydele[d] + ' - Spots'\n",
    "    Data = df_temp[['Date', 'Spots', 'FormattedDate', 'district']]\n",
    "\n",
    "    source = ColumnDataSource(Data)\n",
    "\n",
    "    b[d] = p.line(x='Date', y=jitter('Spots', width=0.6, range=p.y_range),  source=source, muted_alpha=0, muted=True, y_range_name=\"y2\", color=Category20[20][d])\n",
    "    # Create legend items\n",
    "    items.append((bydele[d] + ' - Spots', [b[d]]))\n",
    "\n",
    "    hover = HoverTool(renderers=[b[d]], tooltips=[('District', '@district'), ('Year', '@FormattedDate'), ('Value', '@Spots')])\n",
    "    p.add_tools(hover)\n",
    "\n",
    "    ##----\n",
    "    if df_befolkning_3.iloc[d][0] == f'Bydel - {bydele[d]}': \n",
    "        df_temp_bef = df_befolkning_3.iloc[d]\n",
    "\n",
    "        df_temp2 = pd.DataFrame({'Date': pd.to_datetime(df_temp_bef.index[1:]), 'Population': df_temp_bef.values[1:]})\n",
    "        df_temp2['FormattedDate'] = df_temp2['Date'].dt.strftime('%Y-%m-%d')  # Format to readable date\n",
    "        df_temp2['district'] = df_befolkning_3.iloc[d][0][8:]  + ' - Population'\n",
    "        Data2 = df_temp2[['Date', 'Population', 'FormattedDate', 'district']]\n",
    "        \n",
    "        source2 = ColumnDataSource(Data2)\n",
    "\n",
    "        b2[d] = p.line(x='Date', y=jitter('Population', width=0.6, range=p.y_range, ),  source=source2, muted_alpha=0, color=Category20[20][d+10], muted=False)\n",
    "        items.append((bydele[d] + ' - Population', [b2[d]])) # Create legend items\n",
    "\n",
    "        # Add hover tool\n",
    "        hover = HoverTool(renderers=[b2[d]], tooltips=[('District', '@district'), ('Year', '@FormattedDate'), ('Value', '@Population')])\n",
    "        p.add_tools(hover)\n",
    "    \n",
    "\n",
    "\n",
    "# Create legend\n",
    "legend = Legend(items=items, location='center_right')\n",
    "p.add_layout(legend, 'right')\n",
    "\n",
    "p.legend.glyph_height = 10\n",
    "p.legend.label_height = 10\n",
    "\n",
    "p.xaxis.ticker = DatetimeTicker(desired_num_ticks=10)  # Increase or decrease as needed\n",
    "\n",
    "p.x_range.range_padding = 0\n",
    "p.ygrid.grid_line_color = None\n",
    "p.legend.click_policy = \"mute\"\n",
    "\n",
    "# Show the plot\n",
    "show(p)\n",
    "\n",
    "# output_file(\"bokeh_population_spots.html\")\n",
    "# save(p)"
   ]
  },
  {
   "cell_type": "markdown",
   "metadata": {},
   "source": [
    "### Geographical analysis of bike racks within Copenhagen (V)"
   ]
  }
 ],
 "metadata": {
  "kernelspec": {
   "display_name": "Python 3",
   "language": "python",
   "name": "python3"
  },
  "language_info": {
   "codemirror_mode": {
    "name": "ipython",
    "version": 3
   },
   "file_extension": ".py",
   "mimetype": "text/x-python",
   "name": "python",
   "nbconvert_exporter": "python",
   "pygments_lexer": "ipython3",
   "version": "3.10.6"
  }
 },
 "nbformat": 4,
 "nbformat_minor": 2
}
