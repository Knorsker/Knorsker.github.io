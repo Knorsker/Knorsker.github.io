{
 "cells": [
  {
   "cell_type": "markdown",
   "metadata": {},
   "source": [
    "# Project Assignment B: \"The Viz and the Notebook\""
   ]
  },
  {
   "cell_type": "markdown",
   "metadata": {},
   "source": [
    "The notebook should contain your analysis and code. Please structure it into the following sections"
   ]
  },
  {
   "cell_type": "markdown",
   "metadata": {},
   "source": [
    "1. __Motivation.__\n",
    "* What is your dataset?\n",
    "\n",
    "Our dataset is called 'Cykelstativer' and is from the website Opendata.dk. It contains various information about the number and placement of bike stands in Copenhagen. We have utilized both the CSV file and GeoJSON file to enable various plot options. In addition to these two files, we have also utilized the dataset called 'Bydele,' which includes a GeoJSON file. This file is used to plot the placement and number of bike stands in different parts of the city on a map. Since the dataset only contains approximately ?6000? data points, we was recommended to support the dataset with more data. \n",
    "\n",
    "To support the dataset 'Cykelstativer', we found a dataset  called 'Befolkning' of the population in the different districts in Copenhagen, corresponding to the same districts as in the dataset 'Bydele'. This dataset contains the population measured from 2000 to 2024 almost every quater. \n",
    "\n",
    "Furthermore, we added a dataset called 'Cykeltællinger', which contains information about the amount for bikes in a given spot in the main roads in Copenhagen. Moreover, the data are divided into date and time, location and streetname. The data are measured from 2005 to 2014, divided into one Excel file for each year.\n",
    "\n",
    "* Why did you choose this/these particular dataset(s)?\n",
    "\n",
    "We chose these datasets as we thought it would be interesting to get a understanding if the bike infrastructure is sufficentent for supporting environmental transition and if there is ennough bikestands for the daily coumuters of Copenhagen. Moreover, we would like to dive into the fact that some bike racks are overcrowded, as well as that there are many bikes randomly placed in the general image of Copenhagen. \n",
    "\n",
    "* What was your goal for the end user's experience?\n",
    "\n",
    "Noter: Overview of bike patterns in the daily use (monthly and weekly), trends in the bike patterns in Copenhagen through the years, enough bike racks + private/public.\n"
   ]
  },
  {
   "cell_type": "markdown",
   "metadata": {},
   "source": [
    "2. __Basic stats.__ Let's understand the dataset better\n",
    "* Write about your choices in data cleaning and preprocessing\n",
    "\n",
    "Looking into the basics of the dataset 'Cykelstativer', we could see that some bike racks are allocated with 0 bike spots. To clean the dataset, we choose to exclude the data points with 0 bike spots.\n",
    "\n",
    "\n",
    "* Write a short section that discusses the dataset stats, containing key points/plots from your exploratory data analysis.\n",
    "\n"
   ]
  },
  {
   "cell_type": "markdown",
   "metadata": {},
   "source": [
    "3. __Data Analysis__\n",
    "* Describe your data analysis and explain what you've learned about the dataset.\n",
    "* If relevant, talk about your machine-learning."
   ]
  },
  {
   "cell_type": "markdown",
   "metadata": {},
   "source": [
    "4. __Genre.__ Which genre of data story did you use?\n",
    "* Which tools did you use from each of the 3 categories of Visual Narrative (Figure 7 in Segal and Heer). Why?\n",
    "* Which tools did you use from each of the 3 categories of Narrative Structure (Figure 7 in Segal and Heer). Why?"
   ]
  },
  {
   "cell_type": "markdown",
   "metadata": {},
   "source": [
    "5. __Visualizations.__\n",
    "* Explain the visualizations you've chosen.\n",
    "* Why are they right for the story you want to tell?"
   ]
  },
  {
   "cell_type": "markdown",
   "metadata": {},
   "source": [
    "6. __Discussion.__ Think critically about your creation\n",
    "* What went well?,\n",
    "    * _Answer_: Good and fast to divide the tasks and get started with the project\n",
    "* What is still missing? What could be improved?, Why?\n",
    "    * _Answer_: Data from different years"
   ]
  },
  {
   "cell_type": "markdown",
   "metadata": {},
   "source": [
    "7. __Contributions.__ Who did what?\n",
    "* You should write (just briefly) which group member was the main responsible for which elements of the assignment. (I want you guys to understand every part of the assignment, but usually there is someone who took lead role on certain portions of the work. That's what you should explain).\n",
    "* It is not __OK__ simply to write \"All group members contributed equally\".\n"
   ]
  },
  {
   "cell_type": "markdown",
   "metadata": {},
   "source": [
    "8. Make sure that you use references when they're needed and follow academic standards."
   ]
  }
 ],
 "metadata": {
  "language_info": {
   "name": "python"
  }
 },
 "nbformat": 4,
 "nbformat_minor": 2
}
